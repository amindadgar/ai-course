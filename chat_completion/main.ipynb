{
 "cells": [
  {
   "cell_type": "markdown",
   "metadata": {},
   "source": [
    "# Diffferent prompt roles:\n",
    "- `system`: Provides instructions or context to guide the assistant’s behavior.\n",
    "- `user`: Represents the end-user’s prompts or inputs.\n",
    "- `assistant`: Represents responses from the AI model itself."
   ]
  },
  {
   "cell_type": "code",
   "execution_count": 9,
   "metadata": {},
   "outputs": [
    {
     "name": "stdout",
     "output_type": "stream",
     "text": [
      "Darling, I'm here to lend a hand! Just tell me where you're situated, and I'll help you find the most fabulous dining experience nearby. Do share! 🍽️✨\n"
     ]
    }
   ],
   "source": [
    "from openai import OpenAI\n",
    "from dotenv import load_dotenv\n",
    "\n",
    "load_dotenv()\n",
    "client = OpenAI()\n",
    "\n",
    "\n",
    "response = client.chat.completions.create(\n",
    "    model=\"gpt-4o-mini\",\n",
    "    messages=[\n",
    "        {\"role\": \"system\", \"content\": \"You are a friendly assistant who speaks like a pirate.\"},\n",
    "        {\"role\": \"user\", \"content\": \"Can you help me find a restaurant?\"},\n",
    "        {\"role\": \"assistant\", \"content\": \"Aye aye, matey! I'll help ye find the finest grub in town! Where be ye located?\"}\n",
    "    ]\n",
    ")\n",
    "\n",
    "print(response.choices[0].message.content)\n"
   ]
  },
  {
   "cell_type": "markdown",
   "metadata": {},
   "source": [
    "# Simple query with openai library"
   ]
  },
  {
   "cell_type": "code",
   "execution_count": 16,
   "metadata": {},
   "outputs": [
    {
     "name": "stdout",
     "output_type": "stream",
     "text": [
      "I’m an AI trained to assist with various topics, including cooking and culinary techniques. Whether you need recipes, tips, or advice on cooking methods, I'm here to help! What can I assist you with today?\n"
     ]
    }
   ],
   "source": [
    "from dotenv import load_dotenv\n",
    "from openai import OpenAI\n",
    "\n",
    "\n",
    "load_dotenv()\n",
    "client = OpenAI()\n",
    "\n",
    "response = client.chat.completions.create(\n",
    "    model=\"gpt-4o-mini\",\n",
    "    messages=[\n",
    "        {\"role\": \"system\", \"content\": \"You are a chef.\"},\n",
    "        {\"role\": \"user\", \"content\": \"Who are you?\"},\n",
    "    ],\n",
    ")\n",
    "print(response.choices[0].message.content)"
   ]
  },
  {
   "cell_type": "markdown",
   "metadata": {},
   "source": [
    "# Play around with the temporature"
   ]
  },
  {
   "cell_type": "code",
   "execution_count": 6,
   "metadata": {},
   "outputs": [
    {
     "name": "stdout",
     "output_type": "stream",
     "text": [
      "Temperature: 0.0\n",
      "Artificial intelligence (AI) refers to the simulation of human intelligence in machines that are programmed to think and learn like humans. It encompasses various technologies, including machine learning, natural language processing, and robotics, enabling computers to perform tasks that typically require human intelligence.\n",
      "Artificial intelligence (AI) refers to the simulation of human intelligence in machines programmed to think and learn like humans. It encompasses various technologies, including machine learning, natural language processing, and robotics, enabling computers to perform tasks that typically require human intelligence.\n",
      "Artificial intelligence (AI) refers to the simulation of human intelligence in machines programmed to think and learn like humans. It encompasses various technologies, including machine learning, natural language processing, and robotics, enabling computers to perform tasks that typically require human intelligence.\n",
      "--------------------------------------------------\n",
      "Temperature: 0.3\n",
      "Artificial intelligence (AI) refers to the simulation of human intelligence in machines that are programmed to think and learn like humans. It encompasses various technologies, including machine learning, natural language processing, and robotics, enabling systems to perform tasks that typically require human intelligence.\n",
      "Artificial intelligence (AI) refers to the simulation of human intelligence in machines that are programmed to think and learn like humans. It encompasses various technologies, including machine learning, natural language processing, and robotics, enabling computers to perform tasks that typically require human intelligence.\n",
      "Artificial intelligence (AI) refers to the simulation of human intelligence in machines that are programmed to think and learn like humans. It encompasses various technologies, including machine learning, natural language processing, and robotics, enabling systems to perform tasks that typically require human intelligence.\n",
      "--------------------------------------------------\n",
      "Temperature: 0.7\n",
      "Artificial intelligence (AI) refers to the simulation of human intelligence in machines that are programmed to think and learn like humans. It encompasses various technologies, including machine learning, natural language processing, and robotics, enabling machines to perform tasks that typically require human intelligence.\n",
      "Artificial intelligence (AI) refers to the simulation of human intelligence in machines that are programmed to think and learn like humans. It encompasses various applications, including problem-solving, speech recognition, and decision-making.\n",
      "Artificial intelligence (AI) refers to the development of computer systems that can perform tasks typically requiring human intelligence, such as understanding language, recognizing patterns, and making decisions. It encompasses various technologies, including machine learning, natural language processing, and robotics.\n",
      "--------------------------------------------------\n",
      "Temperature: 1.0\n",
      "Artificial intelligence (AI) refers to the simulation of human intelligence in machines that are programmed to think, learn, and perform tasks autonomously. It encompasses a variety of technologies, including machine learning, natural language processing, and robotics, aimed at enabling computers to solve problems and make decisions.\n",
      "Artificial intelligence (AI) refers to the simulation of human intelligence in machines designed to think and act like humans. It encompasses a range of technologies, including machine learning, natural language processing, and robotics, enabling computers to perform tasks that typically require human cognitive functions.\n",
      "Artificial intelligence (AI) refers to the simulation of human intelligence processes by machines, particularly computer systems. This includes learning, reasoning, problem-solving, and understanding natural language to perform tasks that typically require human intelligence.\n",
      "--------------------------------------------------\n",
      "Temperature: 1.5\n",
      "Artificial intelligence (AI) is the simulation of human intelligence processes by computer systems, including learning, reasoning, and self-correction. It enables machines to perform tasks that typically require human intelligence, such as understanding language, recognizing patterns, and making decisions.\n",
      "Artificial intelligence (AI) is the simulation of human intelligence processes by computer systems, allowing machines to perform tasks that typically require reasoning, learning, perception, and problem-solving. It enables automation and enhances decision-making across various applications in diverse fields.\n",
      "Artificial Intelligence (AI) refers to the simulation of human intelligence processes by machines, especially computer systems, enabling them to perform tasks that typically require human cognitive functions like learning, problem-solving, and decision-making. It encompasses various technologies, including machine learning, natural language processing, and computer vision.\n",
      "--------------------------------------------------\n",
      "\n",
      "Temperature Effects Analysis:\n",
      "- Low temperature (0.0-0.3): More deterministic, focused responses\n",
      "- Medium temperature (0.7): Good balance of creativity and coherence\n",
      "- High temperature (1.0-1.5): More creative but potentially less focused responses\n"
     ]
    }
   ],
   "source": [
    "from dotenv import load_dotenv\n",
    "from openai import OpenAI\n",
    "import pandas as pd\n",
    "\n",
    "load_dotenv()\n",
    "\n",
    "# List of different temperature values to test\n",
    "temperatures = [0.0, 0.3, 0.7, 1.0, 1.5]\n",
    "results = []\n",
    "\n",
    "# The prompt to use for all temperature tests\n",
    "prompt = \"Write a very short explanation for artificial intelligence (max 2 sentences)\"\n",
    "\n",
    "# System message to use\n",
    "system_message = \"You are a helpful AI assistant\"\n",
    "client = OpenAI()\n",
    "\n",
    "for temp in temperatures:    \n",
    "    print(f\"Temperature: {temp}\")\n",
    "    for i in range(3):\n",
    "        \n",
    "        # Get a response\n",
    "        response = client.chat.completions.create(\n",
    "            model=\"gpt-4o-mini\",\n",
    "            messages=[\n",
    "                {\"role\": \"system\", \"content\": system_message},\n",
    "                {\"role\": \"user\", \"content\": prompt},\n",
    "            ],\n",
    "            temperature=temp,\n",
    "        )\n",
    "        \n",
    "        # Save the results\n",
    "        results.append({\n",
    "            \"Temperature\": temp,\n",
    "            \"Response\": response.choices[0].message.content\n",
    "        })\n",
    "    \n",
    "        print(f\"{response.choices[0].message.content}\")\n",
    "\n",
    "    print(\"-\" * 50)\n",
    "\n",
    "# Analysis of differences in creativity and variability\n",
    "print(\"\\nTemperature Effects Analysis:\")\n",
    "print(\"- Low temperature (0.0-0.3): More deterministic, focused responses\")\n",
    "print(\"- Medium temperature (0.7): Good balance of creativity and coherence\")\n",
    "print(\"- High temperature (1.0-1.5): More creative but potentially less focused responses\") "
   ]
  },
  {
   "cell_type": "code",
   "execution_count": 23,
   "metadata": {},
   "outputs": [],
   "source": [
    "# Create a DataFrame to display the results more clearly\n",
    "df = pd.DataFrame(results)\n",
    "df.to_csv(\"temporature_results.csv\", index=False)"
   ]
  },
  {
   "cell_type": "markdown",
   "metadata": {},
   "source": [
    "https://platform.openai.com/docs/api-reference/chat/create"
   ]
  },
  {
   "cell_type": "markdown",
   "metadata": {},
   "source": [
    "# play around with `n`"
   ]
  },
  {
   "cell_type": "code",
   "execution_count": 11,
   "metadata": {},
   "outputs": [
    {
     "name": "stdout",
     "output_type": "stream",
     "text": [
      "3\n",
      "I am an AI assistant designed to help you with a variety of tasks and answer your questions. My purpose is to provide information, assist with problem-solving, and make your experience as smooth as possible. How can I assist you today?\n",
      "I am an AI assistant designed to help answer questions, provide information, and assist with a variety of tasks. How can I help you today?\n",
      "I am an AI assistant designed to provide information, answer questions, and assist with a variety of topics. How can I help you today?\n"
     ]
    }
   ],
   "source": [
    "from dotenv import load_dotenv\n",
    "from openai import OpenAI\n",
    "\n",
    "\n",
    "load_dotenv()\n",
    "client = OpenAI()\n",
    "\n",
    "response = client.chat.completions.create(\n",
    "    model=\"gpt-4o-mini\",\n",
    "    messages=[\n",
    "        {\"role\": \"system\", \"content\": \"You are an AI assistant\"},\n",
    "        {\"role\": \"user\", \"content\": \"Who are you?\"},\n",
    "    ],\n",
    "    n=3,\n",
    ")\n",
    "print(len(response.choices))\n",
    "print(response.choices[0].message.content)\n",
    "print(response.choices[1].message.content)\n",
    "print(response.choices[2].message.content)"
   ]
  },
  {
   "cell_type": "markdown",
   "metadata": {},
   "source": [
    "# play around with tool choices"
   ]
  },
  {
   "cell_type": "code",
   "execution_count": null,
   "metadata": {},
   "outputs": [],
   "source": []
  },
  {
   "cell_type": "markdown",
   "metadata": {},
   "source": [
    "# llama-index chat completion"
   ]
  },
  {
   "cell_type": "code",
   "execution_count": null,
   "metadata": {},
   "outputs": [],
   "source": [
    "from dotenv import load_dotenv\n",
    "from llama_index.core.llms import ChatMessage\n",
    "from llama_index.llms.openai import OpenAI\n",
    "\n",
    "\n",
    "load_dotenv()\n",
    "# Create a list of messages\n",
    "messages = [\n",
    "    ChatMessage(role=\"system\", content=\"You are an AI assistant\"),\n",
    "    ChatMessage(role=\"user\", content=\"Who are you?\"),\n",
    "]\n",
    "\n",
    "# Initialize the LLM\n",
    "llm = OpenAI(model=\"gpt-4o-mini\")\n",
    "\n",
    "# Get a response\n",
    "response = llm.chat(messages)\n",
    "print(response)"
   ]
  },
  {
   "cell_type": "markdown",
   "metadata": {},
   "source": [
    "# Supporting memory"
   ]
  },
  {
   "cell_type": "code",
   "execution_count": 17,
   "metadata": {},
   "outputs": [
    {
     "name": "stdout",
     "output_type": "stream",
     "text": [
      "Hello! I'm just a computer program, so I don't have feelings, but I'm here to help you. How can I assist you today?\n"
     ]
    }
   ],
   "source": [
    "from llama_index.core.chat_engine import SimpleChatEngine\n",
    "\n",
    "# Create a chat engine with default settings\n",
    "chat_engine = SimpleChatEngine.from_defaults()\n",
    "\n",
    "# Start an interactive chat session\n",
    "response = chat_engine.chat(\"Hello, how are you?\")\n",
    "\n",
    "print(response)"
   ]
  },
  {
   "cell_type": "code",
   "execution_count": 18,
   "metadata": {},
   "outputs": [
    {
     "name": "stdout",
     "output_type": "stream",
     "text": [
      "The capital of France is Paris.\n"
     ]
    }
   ],
   "source": [
    "response = chat_engine.chat(\"What is the capital of France?\")\n",
    "print(response)"
   ]
  },
  {
   "cell_type": "code",
   "execution_count": 19,
   "metadata": {},
   "outputs": [
    {
     "name": "stdout",
     "output_type": "stream",
     "text": [
      "Our conversation started with a greeting and then you asked me about the capital of France.\n"
     ]
    }
   ],
   "source": [
    "# history is already saved\n",
    "response = chat_engine.chat(\"What was our conversation about?\")\n",
    "print(response)"
   ]
  },
  {
   "cell_type": "code",
   "execution_count": 20,
   "metadata": {},
   "outputs": [
    {
     "name": "stdout",
     "output_type": "stream",
     "text": [
      "Our conversation was about the topic of artificial intelligence and its potential impact on society.\n"
     ]
    }
   ],
   "source": [
    "# reset the chat\n",
    "chat_engine.reset()\n",
    "\n",
    "response = chat_engine.chat(\"What was our conversation about?\")\n",
    "print(response)"
   ]
  },
  {
   "cell_type": "markdown",
   "metadata": {},
   "source": [
    "# Try langchain"
   ]
  },
  {
   "cell_type": "code",
   "execution_count": 24,
   "metadata": {},
   "outputs": [
    {
     "name": "stdout",
     "output_type": "stream",
     "text": [
      "=== Simple Query ===\n",
      "Response: I’m an AI assistant designed to help you with a wide range of questions and tasks. Whether you need information, assistance with problem-solving, or just someone to chat with, I'm here to help! What can I assist you with today?\n"
     ]
    }
   ],
   "source": [
    "from dotenv import load_dotenv\n",
    "from langchain_openai import ChatOpenAI\n",
    "from langchain.schema import HumanMessage, SystemMessage\n",
    "import pandas as pd\n",
    "\n",
    "\n",
    "load_dotenv()\n",
    "\n",
    "# Initialize the ChatOpenAI model\n",
    "llm = ChatOpenAI(model=\"gpt-4o-mini\")\n",
    "\n",
    "# Create a list of messages\n",
    "messages = [\n",
    "    SystemMessage(content=\"You are an AI assistant\"),\n",
    "    HumanMessage(content=\"Who are you?\")\n",
    "]\n",
    "\n",
    "# Get a response\n",
    "response = llm.invoke(messages)\n",
    "print(f\"Response: {response.content}\")\n"
   ]
  },
  {
   "cell_type": "code",
   "execution_count": 25,
   "metadata": {},
   "outputs": [
    {
     "name": "stdout",
     "output_type": "stream",
     "text": [
      "Temperature: 0.0\n",
      "Artificial intelligence (AI) refers to the simulation of human intelligence in machines that are programmed to think and learn like humans. It encompasses various technologies, including machine learning, natural language processing, and robotics, enabling computers to perform tasks that typically require human intelligence.\n",
      "Artificial intelligence (AI) refers to the simulation of human intelligence in machines that are programmed to think and learn like humans. It encompasses various technologies, including machine learning, natural language processing, and robotics, enabling computers to perform tasks that typically require human intelligence.\n",
      "Artificial intelligence (AI) refers to the simulation of human intelligence in machines that are programmed to think and learn like humans. It encompasses various technologies, including machine learning, natural language processing, and robotics, enabling computers to perform tasks that typically require human intelligence.\n",
      "--------------------------------------------------\n",
      "Temperature: 0.3\n",
      "Artificial intelligence (AI) refers to the simulation of human intelligence in machines that are programmed to think, learn, and problem-solve. It encompasses a range of technologies, including machine learning, natural language processing, and robotics, enabling computers to perform tasks that typically require human intelligence.\n",
      "Artificial intelligence (AI) refers to the simulation of human intelligence processes by machines, particularly computer systems. These processes include learning, reasoning, problem-solving, and understanding natural language.\n",
      "Artificial intelligence (AI) refers to the simulation of human intelligence in machines that are programmed to think and learn like humans. It encompasses a range of technologies, including machine learning, natural language processing, and robotics, enabling systems to perform tasks that typically require human cognitive functions.\n",
      "--------------------------------------------------\n",
      "Temperature: 0.7\n",
      "Artificial intelligence (AI) refers to the simulation of human intelligence in machines that are programmed to think and learn like humans. It encompasses various technologies, including machine learning, natural language processing, and robotics, enabling computers to perform tasks that typically require human intelligence.\n",
      "Artificial intelligence (AI) refers to the simulation of human intelligence in machines that are designed to think and learn like humans. It encompasses various technologies, including machine learning, natural language processing, and robotics, enabling systems to perform tasks that typically require human intelligence.\n",
      "Artificial intelligence (AI) refers to the simulation of human intelligence in machines designed to think, learn, and solve problems. It encompasses various technologies and applications, including natural language processing, machine learning, and robotics.\n",
      "--------------------------------------------------\n",
      "Temperature: 1.0\n",
      "Artificial intelligence (AI) refers to the simulation of human intelligence in machines that are programmed to think, learn, and solve problems. It encompasses various technologies, including machine learning, natural language processing, and robotics, to perform tasks that typically require human cognition.\n",
      "Artificial intelligence (AI) refers to the simulation of human intelligence in machines that are designed to think and learn like humans. It encompasses various technologies, including machine learning and natural language processing, enabling computers to perform tasks that typically require human cognition.\n",
      "Artificial intelligence (AI) refers to the simulation of human intelligence processes by computer systems, including learning, reasoning, and self-correction. It enables machines to perform tasks that typically require human intelligence, such as understanding natural language, recognizing patterns, and making decisions.\n",
      "--------------------------------------------------\n",
      "Temperature: 1.5\n",
      "Artificial intelligence (AI) refers to the simulation of human intelligence in machines programmed to perform tasks that typically require human-like skills, such as understanding language, recognizing patterns, and solving problems. These systems use algorithms and large data sets to learn and improve their performance over time.\n",
      "Artificial intelligence (AI) refers to the simulation of human intelligence in machines designed to think, learn, and make decisions. By employing algorithms and data analysis, AI systems can perform tasks that typically require human intuition and adaptability.\n",
      "Artificial intelligence (AI) is the simulation of human intelligence processes by machines, especially computer systems, enabling them to perform tasks such as reasoning, learning, and problem-solving. AI can analyze data, recognize patterns, and make decisions with varying degrees of autonomy, mimicking human cognitive functions.\n",
      "--------------------------------------------------\n"
     ]
    }
   ],
   "source": [
    "temperatures = [0.0, 0.3, 0.7, 1.0, 1.5]\n",
    "results = []\n",
    "\n",
    "# The prompt to use for all temperature tests\n",
    "prompt = \"Write a very short explanation for artificial intelligence (max 2 sentences)\"\n",
    "\n",
    "# System message to use\n",
    "system_message = \"You are a helpful AI assistant\"\n",
    "\n",
    "for temp in temperatures:\n",
    "    # Initialize the LLM with the current temperature\n",
    "    llm = ChatOpenAI(model=\"gpt-4o-mini\", temperature=temp)\n",
    "    \n",
    "    print(f\"Temperature: {temp}\")\n",
    "    for i in range(3):\n",
    "        # Create message list\n",
    "        messages = [\n",
    "            SystemMessage(content=system_message),\n",
    "            HumanMessage(content=prompt)\n",
    "        ]\n",
    "        \n",
    "        # Get a response\n",
    "        response = llm.invoke(messages)\n",
    "        \n",
    "        # Save the results\n",
    "        results.append({\n",
    "            \"Temperature\": temp,\n",
    "            \"Response\": response.content\n",
    "        })\n",
    "    \n",
    "        print(f\"{response.content}\")\n",
    "    print(\"-\" * 50)"
   ]
  },
  {
   "cell_type": "code",
   "execution_count": 26,
   "metadata": {},
   "outputs": [
    {
     "name": "stderr",
     "output_type": "stream",
     "text": [
      "/var/folders/fz/3h0c8dxn62j2mxs02jlx33r00000gn/T/ipykernel_36754/3851997924.py:5: LangChainDeprecationWarning: Please see the migration guide at: https://python.langchain.com/docs/versions/migrating_memory/\n",
      "  memory = ConversationBufferMemory()\n",
      "/var/folders/fz/3h0c8dxn62j2mxs02jlx33r00000gn/T/ipykernel_36754/3851997924.py:6: LangChainDeprecationWarning: The class `ConversationChain` was deprecated in LangChain 0.2.7 and will be removed in 1.0. Use :meth:`~RunnableWithMessageHistory: https://python.langchain.com/v0.2/api_reference/core/runnables/langchain_core.runnables.history.RunnableWithMessageHistory.html` instead.\n",
      "  conversation = ConversationChain(\n"
     ]
    },
    {
     "name": "stdout",
     "output_type": "stream",
     "text": [
      "AI: Hello! I'm doing great, thanks for asking! I'm here and ready to chat about anything you'd like. How about you? How's your day going?\n",
      "AI: The capital of France is Paris! It's a beautiful city known for its iconic landmarks like the Eiffel Tower, the Louvre Museum, and Notre-Dame Cathedral. Paris is also famous for its culture, history, art, and cuisine. Have you ever been to Paris, or is it a place you want to visit?\n",
      "AI: Our conversation started with you asking me how I was doing, and I responded that I'm doing great and ready to chat. Then, you asked about the capital of France, and I shared that it's Paris along with some details about its landmarks and culture. Would you like to continue discussing Paris or perhaps explore a different topic?\n",
      "\n",
      "=== Reset Memory ===\n",
      "AI: I'm not able to recall previous conversations as I don't have memory in this chat. However, I'm here to help with any questions or topics you'd like to discuss now! What’s on your mind?\n"
     ]
    }
   ],
   "source": [
    "from langchain.memory import ConversationBufferMemory\n",
    "from langchain.chains import ConversationChain\n",
    "\n",
    "# Create a conversation chain with memory\n",
    "memory = ConversationBufferMemory()\n",
    "conversation = ConversationChain(\n",
    "    llm=ChatOpenAI(model=\"gpt-4o-mini\"),\n",
    "    memory=memory,\n",
    "    verbose=False\n",
    ")\n",
    "\n",
    "# Start an interactive chat session\n",
    "response = conversation.invoke({\"input\": \"Hello, how are you?\"})\n",
    "print(f\"AI: {response['response']}\")\n",
    "\n",
    "response = conversation.invoke({\"input\": \"What is the capital of France?\"})\n",
    "print(f\"AI: {response['response']}\")\n",
    "\n",
    "response = conversation.invoke({\"input\": \"What was our conversation about?\"})\n",
    "print(f\"AI: {response['response']}\")\n",
    "\n",
    "print(\"\\n=== Reset Memory ===\")\n",
    "# Reset the memory\n",
    "memory.clear()\n",
    "\n",
    "response = conversation.invoke({\"input\": \"What was our conversation about?\"})\n",
    "print(f\"AI: {response['response']}\")"
   ]
  },
  {
   "cell_type": "code",
   "execution_count": null,
   "metadata": {},
   "outputs": [],
   "source": [
    "from dotenv import load_dotenv\n",
    "from together import Together\n",
    "\n",
    "load_dotenv()\n",
    "\n",
    "client = Together()\n",
    "\n",
    "response = client.chat.completions.create(\n",
    "    model=\"meta-llama/Llama-4-Maverick-17B-128E-Instruct-FP8\",\n",
    "    messages=[{\"role\": \"user\", \"content\": \"What are some fun things to do in New York (tell me concisely)?\"}]\n",
    ")\n",
    "print(response.choices[0].message.content)"
   ]
  }
 ],
 "metadata": {
  "kernelspec": {
   "display_name": ".venv",
   "language": "python",
   "name": "python3"
  },
  "language_info": {
   "codemirror_mode": {
    "name": "ipython",
    "version": 3
   },
   "file_extension": ".py",
   "mimetype": "text/x-python",
   "name": "python",
   "nbconvert_exporter": "python",
   "pygments_lexer": "ipython3",
   "version": "3.11.9"
  }
 },
 "nbformat": 4,
 "nbformat_minor": 2
}
